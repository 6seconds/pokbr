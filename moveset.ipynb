{
 "cells": [
  {
   "cell_type": "code",
   "execution_count": 5,
   "metadata": {},
   "outputs": [],
   "source": [
    "import random\n",
    "import pypokedex\n",
    "import time\n",
    "from bs4 import BeautifulSoup\n",
    "import requests\n",
    "import re\n",
    "\n",
    "games = [\n",
    "    \"red-blue\",\"yellow\",\"gold-silver\",\"crystal\",\"ruby-sapphire\",\"firered-leafgreen\",\"emerald\",\"diamond-pearl\",\n",
    "    \"platinum\",\"heartgold-soulsilver\",\"black-white\",\"x-y\",\"sun-moon\",\"sword-shield\",\"scarlet-violet\"\n",
    "]\n",
    "\n",
    "exceptions = [\n",
    "    \"High-Jump-Kick\", \"Wake-Up-Slap\", \"Power-Up-Punch\", \"Baby-Doll-Eyes\", \"All-Out-Pummeling\", \"Never-Ending-Nightmare\", \n",
    "    \"Black-Hole-Eclipse\", \"Soul-Stealing-7-Star-Strike\", \"10,000,000-Volt-Thunderbolt\",\"Light-That-Burns-the-Sky\", \n",
    "    \"Searing-Sunraze-Smash\", \"Menacing-Moonraze-Maelstrom\", \"Let's-Snuggle-Forever\", \"Will-O-Wisp\"\n",
    "]"
   ]
  },
  {
   "cell_type": "code",
   "execution_count": 7,
   "metadata": {},
   "outputs": [
    {
     "name": "stdout",
     "output_type": "stream",
     "text": [
      "{'Shadow-Ball', 'Sludge-Bomb', 'Giga-Drain', 'Thunderbolt'}\n"
     ]
    }
   ],
   "source": [
    "moveset = []\n",
    "f_moveset = []\n",
    "ff_moveset = []\n",
    "\n",
    "occurence_count = 0\n",
    "position = -1\n",
    "\n",
    "p = input().lower()\n",
    "poke = pypokedex.get(name=p)\n",
    "\n",
    "try: poke_data = requests.get(f\"https://pokemondb.net/pokebase/search?q={poke}\")\n",
    "except: pass\n",
    "poke_soup = BeautifulSoup(poke_data.content, \"html.parser\")\n",
    "questions = poke_soup.findAll(\"div\", attrs = {\"class\": \"qa-q-item-title\"})\n",
    "\n",
    "for question in questions:\n",
    "    if question.text.strip().startswith(\"What is a good moveset for\"):\n",
    "        match = re.search(r'\"([^\"]+)\"', str(question.a))\n",
    "        if match:\n",
    "            moveset_url = match.group(1)\n",
    "            \n",
    "moveset_data = requests.get(f\"https://pokemondb.net/pokebase/{moveset_url}\")\n",
    "moveset_soup = BeautifulSoup(moveset_data.content, \"html.parser\")\n",
    "movesets = moveset_soup.findAll(\"div\", attrs = {\"itemprop\":\"text\"})\n",
    "\n",
    "for moveset in movesets:\n",
    "    count = sum(1 for element in [\"@\",\"ability\",\"nature\"] if element in moveset.text.lower())\n",
    "    if count >=2:\n",
    "        moveset = moveset.text\n",
    "        break\n",
    "\n",
    "moveset = moveset.split('\\n')\n",
    "for i in moveset:\n",
    "    if \"- \" in i:\n",
    "        extracted_text = i.split(\"-\", 1)[1].strip().replace(\"/ \",\"\").replace(\" \",\"-\")\n",
    "\n",
    "        if extracted_text.count(\"-\")>=2 and extracted_text not in exceptions:\n",
    "            hyphen_count = extracted_text.count(\"-\")\n",
    "            first_hyphen_position = extracted_text.find(\"-\")\n",
    "            second_hyphen_position = extracted_text.find(\"-\", first_hyphen_position + 1)\n",
    "            if second_hyphen_position != -1:\n",
    "                if extracted_text[:second_hyphen_position].count(\"-\")<2:\n",
    "                    f_moveset.append(extracted_text[:second_hyphen_position])\n",
    "                if extracted_text[second_hyphen_position + 1:].count(\"-\")<2:\n",
    "                    f_moveset.append(extracted_text[second_hyphen_position + 1:])\n",
    "        else:\n",
    "            f_moveset.append(extracted_text)\n",
    "\n",
    "for i in f_moveset:\n",
    "    for game in games:\n",
    "        try:\n",
    "            if poke.learns(i.lower(),game):\n",
    "                ff_moveset.append(i)\n",
    "            \n",
    "            if poke.learns(i.lower(),game) and i in exceptions:\n",
    "                ff_moveset.append(i)            \n",
    "                \n",
    "                \n",
    "            else:\n",
    "                pass\n",
    "        except:\n",
    "            pass\n",
    "print(set(ff_moveset))\n"
   ]
  }
 ],
 "metadata": {
  "kernelspec": {
   "display_name": "Python 3",
   "language": "python",
   "name": "python3"
  },
  "language_info": {
   "codemirror_mode": {
    "name": "ipython",
    "version": 3
   },
   "file_extension": ".py",
   "mimetype": "text/x-python",
   "name": "python",
   "nbconvert_exporter": "python",
   "pygments_lexer": "ipython3",
   "version": "3.11.4"
  },
  "orig_nbformat": 4
 },
 "nbformat": 4,
 "nbformat_minor": 2
}
